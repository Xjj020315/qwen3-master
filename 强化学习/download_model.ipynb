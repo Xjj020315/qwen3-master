{
 "cells": [
  {
   "cell_type": "markdown",
   "metadata": {},
   "source": [
    "## 数据集下载"
   ]
  },
  {
   "cell_type": "code",
   "execution_count": null,
   "metadata": {},
   "outputs": [],
   "source": [
    "from datasets import load_dataset\n",
    "\n",
    "\n",
    "ds_reason = load_dataset(\"Morefreedai/medical-dpo-v1\",cache_dir='./data/zh')\n",
    "ds_no_reason = load_dataset(\"ShelterW/Medical-R1-dpo-pairs\",cache_dir = './data/en')"
   ]
  },
  {
   "cell_type": "markdown",
   "metadata": {},
   "source": [
    "## 数据集处理"
   ]
  },
  {
   "cell_type": "code",
   "execution_count": null,
   "metadata": {},
   "outputs": [],
   "source": [
    "import json\n",
    "import random\n",
    "\n",
    "# 设置随机种子确保可复现\n",
    "random.seed(42)\n",
    "\n",
    "# 准备训练集和测试集\n",
    "train_data = []\n",
    "test_data = []\n",
    "\n",
    "# 处理英文数据集 (ds_en) 的训练集\n",
    "english_data = list(ds_en['train'])  # 转换为list便于采样\n",
    "random.shuffle(english_data)\n",
    "\n",
    "# 抽取65条英文测试数据\n",
    "for i, item in enumerate(english_data[:65]):\n",
    "    test_data.append({\n",
    "        'question': item['chosen'][0]['content'],\n",
    "        'cot': None,\n",
    "        'answer': item['chosen'][1]['content'],\n",
    "        'type': 'en',\n",
    "        'dialog_id': i\n",
    "    })\n",
    "\n",
    "# 剩余英文数据加入训练集\n",
    "for item in english_data[65:]:\n",
    "    train_data.append({\n",
    "        'prompt': item['chosen'][0]['content'],\n",
    "        'chosen': item['chosen'][1]['content'],\n",
    "        'rejected': item['rejected'][1]['content'],\n",
    "    })\n",
    "\n",
    "# 处理中文数据集 (ds_zh) 的data部分\n",
    "chinese_data = list(ds_zh['data'])\n",
    "random.shuffle(chinese_data)\n",
    "\n",
    "# 抽取65条中文测试数据\n",
    "for j, item in enumerate(chinese_data[:65]):\n",
    "    test_data.append({\n",
    "        'question': item['prompt'],\n",
    "        'cot': None,\n",
    "        'answer': item['chosen'],\n",
    "        'type': 'zh',\n",
    "        'dialog_id': j + 65  # 英文用了0-64，中文从65开始\n",
    "    })\n",
    "\n",
    "# 剩余中文数据加入训练集\n",
    "for item in chinese_data[65:]:\n",
    "    train_data.append({\n",
    "        'prompt': item['prompt'],\n",
    "        'chosen': item['chosen'],\n",
    "        'rejected': item['rejected'],\n",
    "    })\n",
    "\n",
    "# 打乱训练集顺序\n",
    "random.shuffle(train_data)\n",
    "\n",
    "# 保存训练集\n",
    "with open('train_preference_data.json', 'w', encoding='utf-8') as f:\n",
    "    json.dump(train_data, f, ensure_ascii=False, indent=2)\n",
    "\n",
    "# 保存测试集\n",
    "with open('test_qa_data.json', 'w', encoding='utf-8') as f:\n",
    "    json.dump(test_data, f, ensure_ascii=False, indent=2)\n",
    "\n",
    "print(f\"处理完成：\")\n",
    "print(f\"- 训练集：{len(train_data)} 条（英文{len(english_data)-65}条 + 中文{len(chinese_data)-65}条）\")\n",
    "print(f\"- 测试集：{len(test_data)} 条（英文65条 + 中文65条）\")"
   ]
  }
 ],
 "metadata": {
  "language_info": {
   "name": "python"
  }
 },
 "nbformat": 4,
 "nbformat_minor": 2
}
