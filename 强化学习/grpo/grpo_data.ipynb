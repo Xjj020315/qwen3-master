{
 "cells": [
  {
   "cell_type": "code",
   "execution_count": 1,
   "id": "eb67272f-288c-4771-aee2-65b23f3ff224",
   "metadata": {},
   "outputs": [],
   "source": [
    "import subprocess\n",
    "import os\n",
    "from datasets import load_dataset, Dataset, interleave_datasets, concatenate_datasets\n",
    "result = subprocess.run('bash -c \"source /etc/network_turbo && env | grep proxy\"', shell=True, capture_output=True, text=True)\n",
    "output = result.stdout\n",
    "for line in output.splitlines():\n",
    "    if '=' in line:\n",
    "        var, value = line.split('=', 1)\n",
    "        os.environ[var] = value\n",
    "\n",
    "import re\n",
    "# Load and prep dataset\n",
    "SYSTEM_PROMPT = {\n",
    "    \"en\": \"\"\"Respond with <think>your reasoning process</think> followed by <answer>your final answer</answer>. \n",
    "    The response part should be as concise as possible: \n",
    "    - For math problems, only provide the numerical result\n",
    "    - For judgment questions, only answer yes/no/maybe\n",
    "    - For multiple-choice questions, only provide the letter (A/B/C/D)\n",
    "    When not in thinking mode, only provide the content within <answer> tags\"\"\",\n",
    "    \n",
    "    \"zh\": \"\"\"请用<think>你的思考过程</think>和<answer>最终答案</answer>的格式回答。\n",
    "    其中response部分填写尽量简短：\n",
    "    - 数学题只需要回答数字结果\n",
    "    - 判断题只需要回答yes/no/maybe\n",
    "    - 选择题只需要填写A/B/C/D\n",
    "    非思考模式时，只需要提供<answer>标签包含的内容\"\"\"\n",
    "}\n",
    "\n",
    "XML_COT_FORMAT = \"\"\"\\\n",
    "<think>\n",
    "{reasoning}\n",
    "</think>\n",
    "<answer>\n",
    "{answer}\n",
    "</answer>\n",
    "\"\"\"\n",
    "\n",
    "# def extract_xml_answer(text: str) -> str:\n",
    "#     answer = text.split(\"<answer>\")[-1]\n",
    "#     answer = answer.split(\"</answer>\")[0]\n",
    "#     return answer.strip()\n",
    "\n",
    "def extract_hash_answer(text: str) -> str | None:\n",
    "    if \"####\" not in text:\n",
    "        return None\n",
    "    return text.split(\"####\")[1].strip()\n",
    "\n",
    "# uncomment middle messages for 1-shot prompting\n",
    "def get_datasets(split = \"train\") -> Dataset:\n",
    "    data = load_dataset('openai/gsm8k', 'main',cache_dir='data/gsm8k')[split] # type: ignore\n",
    "    data = data.select(range(5000)).map(lambda x: { # type: ignore\n",
    "        'prompt': [\n",
    "            {'role': 'system', 'content': SYSTEM_PROMPT['en']},\n",
    "            {'role': 'user', 'content': x['question']}\n",
    "        ],\n",
    "        'answer': extract_hash_answer(x['answer']),\n",
    "        'db_set':'gsm8k'\n",
    "    }) # type: ignore\n",
    "    data = data.remove_columns(['question'])\n",
    "\n",
    "    data_qa = load_dataset(\"qiaojin/PubMedQA\", \"pqa_artificial\",cache_dir='data/PubMedQA')[split] # two times more than other datasets\n",
    "    data_qa = data_qa.filter(lambda x: len(\"\\n\".join(x['context']['contexts'])) < 1024) # avoid long traces\n",
    "    data_qa = data_qa.select(range(5000)).map(lambda x: { # type: ignore\n",
    "        'prompt': [\n",
    "            {'role': 'system', 'content': SYSTEM_PROMPT['en']},\n",
    "            {\n",
    "                \"role\": \"user\",\n",
    "                \"content\": \"Given the scientific context below:\\n\" +\n",
    "                          \"\\n\".join(x['context']['contexts']) +\n",
    "                          \"\\n\\nAnswer the following question:\\n\" +\n",
    "                          x['question'] +\n",
    "                          \" with 'yes', 'no' or 'maybe'. You need to carefully review the context and reason before answering.\"\n",
    "            },\n",
    "        ],\n",
    "        'answer': x['final_decision'],\n",
    "        'db_set': 'pubmedqa'\n",
    "        \n",
    "    }) # type: ignore\n",
    "    data_qa = data_qa.remove_columns(['pubid', 'question', 'context', 'long_answer', 'final_decision'])\n",
    "\n",
    "\n",
    "    categories =['Lab_Medicine', 'Wearables', 'Dermatology', 'Gastroenterology', 'Internal_Medicine', 'Oncology', 'Orthopedics', 'General_Surgery', 'Ophthalmology', 'Audiology', 'Head_Neck_Surgery', 'Elderly_Care', 'Pediatrics', 'Allergy_Immunology', 'Rheumatology', 'Pharmacy', 'Obstetrics_Gynecology', 'Microbiology', 'Dentistry', 'Physical_Medicine_and_Rehabilitation', 'Neurology', 'Psychiatry', 'Pathology', 'Genetics', 'Rare_Diseases', 'Hematology', 'Emergency', 'Endocrinology', 'Radiology', 'Cardiology', 'Pulmonology', 'Infectious_Diseases', 'Critical_Care', 'Pediatric_Surgery', 'Neuroscience', 'Epidemiology', 'Fitness_Sports', 'Health_Education', 'Health_Economics', 'Health_Entrepreneurship', 'Hospital_Management', 'Mental_Health', 'Nutrition', 'Palliative_Care', 'Preventive_Medicine', 'Public_Health', 'Social_Media_Addiction', 'Sleep', 'Supplements', 'Vaccination', 'Work_Health', 'Wellbeing']\n",
    "    data_mc = concatenate_datasets([load_dataset(\"yesilhealth/Health_Benchmarks\",i,cache_dir='data/Health_Benchmarks')[i] for i in categories])\n",
    "    data_mc = data_mc.select(range(5000)).map(lambda x: { # type: ignore\n",
    "        'prompt': [\n",
    "            {'role': 'system', 'content': SYSTEM_PROMPT['en']},\n",
    "            {\n",
    "                \"role\": \"user\",\n",
    "                \"content\": \"\\n\\nAnswer the following question:\\n\" +\n",
    "                          x['Questions'] +\n",
    "                          \"\\n With 'A', 'B', 'C' or 'D'. You need to carefully review the context and reason before answering.\"\n",
    "            },\n",
    "        ],\n",
    "        'answer': x['Answers'],\n",
    "        'db_set': 'med_mc'\n",
    "    }) # type: ignore\n",
    "    data_mc = data_mc.remove_columns(['Answers', 'Questions'])\n",
    "\n",
    "    dataset = concatenate_datasets([data, data_qa, data_mc])\n",
    "    return dataset"
   ]
  },
  {
   "cell_type": "code",
   "execution_count": 2,
   "id": "3b5a8d2d-7e5a-4fbd-9529-dff8bb97a553",
   "metadata": {},
   "outputs": [
    {
     "data": {
      "application/vnd.jupyter.widget-view+json": {
       "model_id": "91ae7010c5054fc29591d3a3f5ce7537",
       "version_major": 2,
       "version_minor": 0
      },
      "text/plain": [
       "Map:   0%|          | 0/5000 [00:00<?, ? examples/s]"
      ]
     },
     "metadata": {},
     "output_type": "display_data"
    },
    {
     "data": {
      "application/vnd.jupyter.widget-view+json": {
       "model_id": "9b0ad5dd48fb49dba15b0e1af69e1a2c",
       "version_major": 2,
       "version_minor": 0
      },
      "text/plain": [
       "Map:   0%|          | 0/5000 [00:00<?, ? examples/s]"
      ]
     },
     "metadata": {},
     "output_type": "display_data"
    },
    {
     "data": {
      "application/vnd.jupyter.widget-view+json": {
       "model_id": "c700843b95734c4caaa0c70fc156413c",
       "version_major": 2,
       "version_minor": 0
      },
      "text/plain": [
       "Map:   0%|          | 0/5000 [00:00<?, ? examples/s]"
      ]
     },
     "metadata": {},
     "output_type": "display_data"
    },
    {
     "name": "stdout",
     "output_type": "stream",
     "text": [
      "train size: 13500, test size: 1500\n"
     ]
    }
   ],
   "source": [
    "dataset = get_datasets()\n",
    "dataset = dataset.shuffle(seed=42)\n",
    "train_test_split = dataset.train_test_split(test_size=0.1)\n",
    "train_dataset = train_test_split[\"train\"]\n",
    "test_dataset = train_test_split[\"test\"]\n",
    "print(f\"train size: {len(train_dataset)}, test size: {len(test_dataset)}\")"
   ]
  },
  {
   "cell_type": "code",
   "execution_count": 3,
   "id": "5eeb0e60-5d8e-4790-9e3e-6bb4e2711bf8",
   "metadata": {},
   "outputs": [
    {
     "data": {
      "text/plain": [
       "{'answer': 'yes',\n",
       " 'prompt': [{'content': '\\nRespond in the following format:\\n<think>\\n...\\n</think>\\n<answer>\\n...\\n</answer>\\n',\n",
       "   'role': 'system'},\n",
       "  {'content': \"Given the scientific context below:\\nThis study described information management incidents and adverse event reporting choices of health professionals.\\nHospital adverse events reported in an anonymous electronic reporting system were analysed using directed content analysis and descriptive and inferential statistics. The data consisted of near miss and adverse event incident reports (n = 3075) that occurred between January 2008 and the end of December 2009.\\nA total of 824 incidents were identified. The most common information management incident was failure in written information transfer and communication, when patient data were copied or documented incorrectly. Often patient data were transferred using paper even though an electronic patient record was in use. Reporting choices differed significantly among professional groups; in particular, registered nurses reported more events than other health professionals.\\n\\nAnswer the following question:\\nDoes adverse events and near miss relating to information management in a hospital? with 'yes', 'no' or 'maybe'. You need to carefully review the context and reason before answering.\",\n",
       "   'role': 'user'}],\n",
       " 'db_set': 'pubmedqa'}"
      ]
     },
     "execution_count": 3,
     "metadata": {},
     "output_type": "execute_result"
    }
   ],
   "source": [
    "test_dataset[0]"
   ]
  },
  {
   "cell_type": "code",
   "execution_count": 4,
   "id": "61c885ee-a0ce-4207-80e8-83f6041b6863",
   "metadata": {},
   "outputs": [
    {
     "data": {
      "text/plain": [
       "{'answer': 'yes',\n",
       " 'prompt': [{'content': '\\nRespond in the following format:\\n<think>\\n...\\n</think>\\n<answer>\\n...\\n</answer>\\n',\n",
       "   'role': 'system'},\n",
       "  {'content': \"Given the scientific context below:\\nThe use of doxorubicin (DOX) as a chemotherapeutic agent is limited by cardiac injury. Iloprost, a stable synthetic analogue of prostacyclin, has previously been shown to protect against DOX-induced cardiomyocyte injury in vitro. Here, we addressed whether iloprost is cardioprotective in vivo and whether it compromises the anti-tumour efficacy of DOX.\\nLewis Lung Carcinoma cells were implanted subcutaneously in the flank of C57BL/6 mice. DOX treatment was commenced from when tumours became visible. Iloprost was administered from prior to DOX treatment until sacrifice. Echocardiography and invasive haemodynamic measurements were performed immediately before sacrifice. As expected, DOX induced cardiac cell apoptosis and cardiac dysfunction, both of which were attenuated by iloprost. Also, iloprost alone had no effect on tumor growth and indeed, did not alter the DOX-induced suppression of this growth.\\n\\nAnswer the following question:\\nDoes iloprost attenuate doxorubicin-induced cardiac injury in a murine model without compromising tumour suppression? with 'yes', 'no' or 'maybe'. You need to carefully review the context and reason before answering.\",\n",
       "   'role': 'user'}],\n",
       " 'db_set': 'pubmedqa'}"
      ]
     },
     "execution_count": 4,
     "metadata": {},
     "output_type": "execute_result"
    }
   ],
   "source": [
    "test_dataset[1]"
   ]
  },
  {
   "cell_type": "code",
   "execution_count": 5,
   "id": "671c7446-f364-4d3a-989c-4591b037a3f9",
   "metadata": {},
   "outputs": [
    {
     "data": {
      "application/vnd.jupyter.widget-view+json": {
       "model_id": "27c4ad525c744e4496337705ed2b7a72",
       "version_major": 2,
       "version_minor": 0
      },
      "text/plain": [
       "Saving the dataset (0/1 shards):   0%|          | 0/13500 [00:00<?, ? examples/s]"
      ]
     },
     "metadata": {},
     "output_type": "display_data"
    },
    {
     "data": {
      "application/vnd.jupyter.widget-view+json": {
       "model_id": "3064053730be4282a97fab9e97063108",
       "version_major": 2,
       "version_minor": 0
      },
      "text/plain": [
       "Saving the dataset (0/1 shards):   0%|          | 0/1500 [00:00<?, ? examples/s]"
      ]
     },
     "metadata": {},
     "output_type": "display_data"
    }
   ],
   "source": [
    "train_dataset.save_to_disk(\"train_dataset\")\n",
    "test_dataset.save_to_disk(\"test_dataset\")"
   ]
  },
  {
   "cell_type": "code",
   "execution_count": 6,
   "id": "c7c1af5d-7825-4f36-8093-ad097a22626e",
   "metadata": {},
   "outputs": [],
   "source": [
    "from datasets import load_from_disk\n",
    "\n",
    "# 加载之前保存的 test_dataset\n",
    "test_dataset = load_from_disk(\"test_dataset\")\n",
    "train_dataset = load_from_disk(\"train_dataset\")"
   ]
  },
  {
   "cell_type": "code",
   "execution_count": 7,
   "id": "3522fc07-8409-4b55-962c-b0d447935e74",
   "metadata": {},
   "outputs": [
    {
     "data": {
      "text/plain": [
       "Dataset({\n",
       "    features: ['answer', 'prompt', 'db_set'],\n",
       "    num_rows: 13500\n",
       "})"
      ]
     },
     "execution_count": 7,
     "metadata": {},
     "output_type": "execute_result"
    }
   ],
   "source": [
    "train_dataset"
   ]
  },
  {
   "cell_type": "code",
   "execution_count": 8,
   "id": "65d917fd-a6e6-4338-bb59-daae466408c7",
   "metadata": {},
   "outputs": [
    {
     "data": {
      "text/plain": [
       "{'answer': 'yes',\n",
       " 'prompt': [{'content': '\\nRespond in the following format:\\n<think>\\n...\\n</think>\\n<answer>\\n...\\n</answer>\\n',\n",
       "   'role': 'system'},\n",
       "  {'content': \"Given the scientific context below:\\nThis study described information management incidents and adverse event reporting choices of health professionals.\\nHospital adverse events reported in an anonymous electronic reporting system were analysed using directed content analysis and descriptive and inferential statistics. The data consisted of near miss and adverse event incident reports (n = 3075) that occurred between January 2008 and the end of December 2009.\\nA total of 824 incidents were identified. The most common information management incident was failure in written information transfer and communication, when patient data were copied or documented incorrectly. Often patient data were transferred using paper even though an electronic patient record was in use. Reporting choices differed significantly among professional groups; in particular, registered nurses reported more events than other health professionals.\\n\\nAnswer the following question:\\nDoes adverse events and near miss relating to information management in a hospital? with 'yes', 'no' or 'maybe'. You need to carefully review the context and reason before answering.\",\n",
       "   'role': 'user'}],\n",
       " 'db_set': 'pubmedqa'}"
      ]
     },
     "execution_count": 8,
     "metadata": {},
     "output_type": "execute_result"
    }
   ],
   "source": [
    "test_dataset[0]"
   ]
  },
  {
   "cell_type": "code",
   "execution_count": 9,
   "id": "3fdb5f4d-b59f-4d91-8a6b-bcabfa545102",
   "metadata": {},
   "outputs": [
    {
     "data": {
      "text/plain": [
       "{'answer': 'yes',\n",
       " 'prompt': [{'content': '\\nRespond in the following format:\\n<think>\\n...\\n</think>\\n<answer>\\n...\\n</answer>\\n',\n",
       "   'role': 'system'},\n",
       "  {'content': \"Given the scientific context below:\\nThe use of doxorubicin (DOX) as a chemotherapeutic agent is limited by cardiac injury. Iloprost, a stable synthetic analogue of prostacyclin, has previously been shown to protect against DOX-induced cardiomyocyte injury in vitro. Here, we addressed whether iloprost is cardioprotective in vivo and whether it compromises the anti-tumour efficacy of DOX.\\nLewis Lung Carcinoma cells were implanted subcutaneously in the flank of C57BL/6 mice. DOX treatment was commenced from when tumours became visible. Iloprost was administered from prior to DOX treatment until sacrifice. Echocardiography and invasive haemodynamic measurements were performed immediately before sacrifice. As expected, DOX induced cardiac cell apoptosis and cardiac dysfunction, both of which were attenuated by iloprost. Also, iloprost alone had no effect on tumor growth and indeed, did not alter the DOX-induced suppression of this growth.\\n\\nAnswer the following question:\\nDoes iloprost attenuate doxorubicin-induced cardiac injury in a murine model without compromising tumour suppression? with 'yes', 'no' or 'maybe'. You need to carefully review the context and reason before answering.\",\n",
       "   'role': 'user'}],\n",
       " 'db_set': 'pubmedqa'}"
      ]
     },
     "execution_count": 9,
     "metadata": {},
     "output_type": "execute_result"
    }
   ],
   "source": [
    "test_dataset[1]"
   ]
  },
  {
   "cell_type": "code",
   "execution_count": 10,
   "id": "96f77fed-dd22-4108-9a63-a0290f4aa387",
   "metadata": {},
   "outputs": [
    {
     "data": {
      "text/plain": [
       "{'answer': 'B',\n",
       " 'prompt': [{'content': '\\nRespond in the following format:\\n<think>\\n...\\n</think>\\n<answer>\\n...\\n</answer>\\n',\n",
       "   'role': 'system'},\n",
       "  {'content': \"\\n\\nAnswer the following question:\\nWhich of the following genetic conditions is characterized by disproportionate short stature and severe immunodeficiency due to adenine deaminase deficiency? A:Bloom’s syndrome   B:Adenine deaminase deficiency   C:Ataxia-telangiectasia D:Anhidrotic ectodermal dysplasia\\n With 'A', 'B', 'C' or 'D'. You need to carefully review the context and reason before answering.\",\n",
       "   'role': 'user'}],\n",
       " 'db_set': 'med_mc'}"
      ]
     },
     "execution_count": 10,
     "metadata": {},
     "output_type": "execute_result"
    }
   ],
   "source": [
    "test_dataset[3]"
   ]
  },
  {
   "cell_type": "code",
   "execution_count": 11,
   "id": "95f0e5d5-743b-4424-bb72-7e1d8648c66d",
   "metadata": {},
   "outputs": [
    {
     "data": {
      "text/plain": [
       "Dataset({\n",
       "    features: ['answer', 'prompt', 'db_set'],\n",
       "    num_rows: 1500\n",
       "})"
      ]
     },
     "execution_count": 11,
     "metadata": {},
     "output_type": "execute_result"
    }
   ],
   "source": [
    "test_dataset\n"
   ]
  },
  {
   "cell_type": "code",
   "execution_count": null,
   "id": "cd1e7ccb-86e6-4f27-add8-ee0cfdcee325",
   "metadata": {},
   "outputs": [],
   "source": []
  }
 ],
 "metadata": {
  "kernelspec": {
   "display_name": "Python 3 (ipykernel)",
   "language": "python",
   "name": "python3"
  },
  "language_info": {
   "codemirror_mode": {
    "name": "ipython",
    "version": 3
   },
   "file_extension": ".py",
   "mimetype": "text/x-python",
   "name": "python",
   "nbconvert_exporter": "python",
   "pygments_lexer": "ipython3",
   "version": "3.12.3"
  }
 },
 "nbformat": 4,
 "nbformat_minor": 5
}
