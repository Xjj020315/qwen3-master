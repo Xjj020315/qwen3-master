{
 "cells": [
  {
   "cell_type": "markdown",
   "metadata": {},
   "source": [
    "## 数据集下载"
   ]
  },
  {
   "cell_type": "code",
   "execution_count": null,
   "metadata": {},
   "outputs": [],
   "source": [
    "from datasets import load_dataset\n",
    "\n",
    "\n",
    "ds_reason = load_dataset(\"Morefreedai/medical-dpo-v1\",cache_dir='./data/zh')\n",
    "ds_no_reason = load_dataset(\"ShelterW/Medical-R1-dpo-pairs\",cache_dir = './data/en')"
   ]
  },
  {
   "cell_type": "markdown",
   "metadata": {},
   "source": [
    "## 数据集处理"
   ]
  },
  {
   "cell_type": "code",
   "execution_count": null,
   "metadata": {},
   "outputs": [],
   "source": [
    "import json\n",
    "import random\n",
    "\n",
    "# 设置随机种子确保可复现\n",
    "random.seed(42)\n",
    "\n",
    "# 准备训练集和测试集\n",
    "train_data = []\n",
    "test_data = []\n",
    "\n",
    "# 处理英文数据集 (ds_en) 的训练集\n",
    "english_data = list(ds_en['train'])  # 转换为list便于采样\n",
    "random.shuffle(english_data)\n",
    "\n",
    "# 抽取65条英文测试数据\n",
    "for i, item in enumerate(english_data[:65]):\n",
    "    test_data.append({\n",
    "        'question': item['chosen'][0]['content'],\n",
    "        'cot': None,\n",
    "        'answer': item['chosen'][1]['content'],\n",
    "        'type': 'en',\n",
    "        'dialog_id': i\n",
    "    })\n",
    "\n",
    "# 剩余英文数据加入训练集\n",
    "for item in english_data[65:]:\n",
    "    train_data.append({\n",
    "        'prompt': item['chosen'][0]['content'],\n",
    "        'chosen': item['chosen'][1]['content'],\n",
    "        'rejected': item['rejected'][1]['content'],\n",
    "    })\n",
    "\n",
    "# 处理中文数据集 (ds_zh) 的data部分\n",
    "chinese_data = list(ds_zh['data'])\n",
    "random.shuffle(chinese_data)\n",
    "\n",
    "# 抽取65条中文测试数据\n",
    "for j, item in enumerate(chinese_data[:65]):\n",
    "    test_data.append({\n",
    "        'question': item['prompt'],\n",
    "        'cot': None,\n",
    "        'answer': item['chosen'],\n",
    "        'type': 'zh',\n",
    "        'dialog_id': j + 65  # 英文用了0-64，中文从65开始\n",
    "    })\n",
    "\n",
    "# 剩余中文数据加入训练集\n",
    "for item in chinese_data[65:]:\n",
    "    train_data.append({\n",
    "        'prompt': item['prompt'],\n",
    "        'chosen': item['chosen'],\n",
    "        'rejected': item['rejected'],\n",
    "    })\n",
    "\n",
    "# 打乱训练集顺序\n",
    "random.shuffle(train_data)\n",
    "\n",
    "# 保存训练集\n",
    "with open('train_preference_data.json', 'w', encoding='utf-8') as f:\n",
    "    json.dump(train_data, f, ensure_ascii=False, indent=2)\n",
    "\n",
    "# 保存测试集\n",
    "with open('test_qa_data.json', 'w', encoding='utf-8') as f:\n",
    "    json.dump(test_data, f, ensure_ascii=False, indent=2)\n",
    "\n",
    "print(f\"处理完成：\")\n",
    "print(f\"- 训练集：{len(train_data)} 条（英文{len(english_data)-65}条 + 中文{len(chinese_data)-65}条）\")\n",
    "print(f\"- 测试集：{len(test_data)} 条（英文65条 + 中文65条）\")"
   ]
  },
  {
   "cell_type": "markdown",
   "metadata": {},
   "source": [
    "## llama factory"
   ]
  },
  {
   "cell_type": "markdown",
   "metadata": {},
   "source": [
    "### 训练集"
   ]
  },
  {
   "cell_type": "code",
   "execution_count": null,
   "metadata": {},
   "outputs": [],
   "source": [
    "import json\n",
    "\n",
    "# 1. 加载原始训练集\n",
    "with open('train_preference_data.json', 'r', encoding='utf-8') as f:\n",
    "    train_data = json.load(f)\n",
    "\n",
    "# 2. 转换为 ShareGPT 格式\n",
    "sharegpt_data = []\n",
    "for item in train_data:\n",
    "    # 构建对话部分（严格匹配示例格式）\n",
    "    conversations = [\n",
    "        {\n",
    "            \"from\": \"human\",\n",
    "            \"value\": item[\"prompt\"]  # 假设原字段是 prompt\n",
    "        },\n",
    "        {\n",
    "            \"from\": \"gpt\",\n",
    "            \"value\": item[\"chosen\"]\n",
    "        }\n",
    "    ]\n",
    "    \n",
    "    # 构建 chosen/rejected（严格嵌套格式）\n",
    "    chosen = {\n",
    "        \"from\": \"gpt\",\n",
    "        \"value\": item[\"chosen\"]\n",
    "    }\n",
    "    rejected = {\n",
    "        \"from\": \"gpt\",\n",
    "        \"value\": item[\"rejected\"]\n",
    "    }\n",
    "    \n",
    "    sharegpt_data.append({\n",
    "        \"conversations\": conversations,\n",
    "        \"chosen\": chosen,\n",
    "        \"rejected\": rejected\n",
    "    })\n",
    "\n",
    "# 3. 保存结果\n",
    "with open('train_sharegpt.json', 'w', encoding='utf-8') as f:\n",
    "    json.dump(sharegpt_data, f, ensure_ascii=False, indent=2)\n",
    "\n",
    "print(f\"转换完成，共处理 {len(sharegpt_data)} 条训练数据\")"
   ]
  },
  {
   "cell_type": "markdown",
   "metadata": {},
   "source": [
    "### 测试集"
   ]
  },
  {
   "cell_type": "code",
   "execution_count": null,
   "metadata": {},
   "outputs": [],
   "source": [
    "import json\n",
    "\n",
    "def convert_test_to_alpaca(test_data):\n",
    "    alpaca_data = []\n",
    "    for item in test_data:\n",
    "        # 提取instruction和output（假设question作为instruction，answer作为output）\n",
    "        alpaca_item = {\n",
    "            \"instruction\": item[\"question\"]+\" /no_think\",\n",
    "            \"input\": \"\",  # 留空，如示例所示\n",
    "            \"output\": \"<think>\\n\\n</think>\\n\"+item[\"answer\"]\n",
    "        }\n",
    "        alpaca_data.append(alpaca_item)\n",
    "    return alpaca_data\n",
    "\n",
    "# 加载原始测试集\n",
    "with open('test_qa_data.json', 'r', encoding='utf-8') as f:\n",
    "    test_data = json.load(f)\n",
    "\n",
    "# 转换测试集\n",
    "alpaca_test = convert_test_to_alpaca(test_data)\n",
    "\n",
    "# 保存Alpaca格式测试集\n",
    "with open('test_alpaca.json', 'w', encoding='utf-8') as f:\n",
    "    json.dump(alpaca_test, f, ensure_ascii=False, indent=2)\n",
    "\n",
    "print(f\"测试集转换完成，共处理 {len(alpaca_test)} 条数据\")"
   ]
  },
  {
   "cell_type": "markdown",
   "metadata": {},
   "source": [
    "### 把数据移动到llama factory的adta目录下"
   ]
  },
  {
   "cell_type": "markdown",
   "metadata": {},
   "source": [
    "mv train_sharegpt.json LLaMA-Factory/data\n",
    "\n",
    "mv test_alpaca.json LLaMA-Factory/data"
   ]
  },
  {
   "cell_type": "markdown",
   "metadata": {},
   "source": [
    "### 在dataset_info.json中添加\n"
   ]
  },
  {
   "cell_type": "raw",
   "metadata": {
    "vscode": {
     "languageId": "raw"
    }
   },
   "source": [
    "\n",
    "\"test_alpaca\": {\n",
    "    \"file_name\": \"test_alpaca.json\"\n",
    "  }\n",
    "  ,\n",
    "\"train_sharegpt\": {\n",
    "    \"file_name\": \"train_sharegpt.json\",\n",
    "    \"ranking\": true,\n",
    "    \"formatting\": \"sharegpt\",\n",
    "    \"columns\": {\n",
    "      \"messages\": \"conversations\",\n",
    "      \"chosen\": \"chosen\",\n",
    "      \"rejected\": \"rejected\"\n",
    "    }\n",
    "  }"
   ]
  }
 ],
 "metadata": {
  "language_info": {
   "name": "python"
  }
 },
 "nbformat": 4,
 "nbformat_minor": 2
}
