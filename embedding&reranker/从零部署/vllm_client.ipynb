{
 "cells": [
  {
   "cell_type": "markdown",
   "id": "5e9681e6-7f2a-4769-a12c-836f08f1dd3f",
   "metadata": {},
   "source": [
    "## embedding"
   ]
  },
  {
   "cell_type": "code",
   "execution_count": 15,
   "id": "5e984b07-d633-4fe2-89fe-69dc26d003f2",
   "metadata": {},
   "outputs": [
    {
     "name": "stdout",
     "output_type": "stream",
     "text": [
      "[[0.74822138 0.13485502]\n",
      " [0.04891992 0.60138983]]\n"
     ]
    }
   ],
   "source": [
    "import requests\n",
    "\n",
    "# 测试查询嵌入\n",
    "queries_embeddings = requests.post(\n",
    "    \"http://localhost:8000/embed\",\n",
    "    json={\n",
    "        \"sentences\": [\"What is the capital of China?\", \"Explain gravity\"],\n",
    "        \"is_query\": True,\n",
    "        \"dim\": 1024  # 可选：指定维度\n",
    "    }\n",
    ")\n",
    "\n",
    "queries_embeddings = queries_embeddings.json()\n",
    "\n",
    "# 测试文档嵌入\n",
    "documents_embeddings = requests.post(\n",
    "    \"http://localhost:8000/embed\",\n",
    "    json={\n",
    "        \"sentences\": [\n",
    "            \"The capital of China is Beijing.\",\n",
    "            \"Gravity is a force that attracts two bodies towards each other.\"\n",
    "        ],\n",
    "        \"is_query\": False,\n",
    "        \"dim\": 1024  # 可选：指定维度\n",
    "    }\n",
    ")\n",
    "\n",
    "documents_embeddings = documents_embeddings.json()\n",
    "import numpy as np\n",
    "\n",
    "# 将列表转换为 NumPy 数组\n",
    "query_emb = np.array(queries_embeddings[\"embeddings\"])\n",
    "doc_emb = np.array(documents_embeddings[\"embeddings\"])\n",
    "\n",
    "# 计算相似度分数（矩阵乘法 + 转置）\n",
    "scores = query_emb @ doc_emb.T\n",
    "print(scores)"
   ]
  },
  {
   "cell_type": "markdown",
   "id": "2c77411a-dfac-429c-9f2d-982f718775bf",
   "metadata": {},
   "source": [
    "## reranker"
   ]
  },
  {
   "cell_type": "code",
   "execution_count": 18,
   "id": "a84a6e60-77fe-4abf-8273-a5c8af8644ba",
   "metadata": {},
   "outputs": [
    {
     "name": "stdout",
     "output_type": "stream",
     "text": [
      "{'scores': [0.995094593130475, 0.8840392817460332]}\n"
     ]
    }
   ],
   "source": [
    "import requests\n",
    "\n",
    "response = requests.post(\n",
    "    \"http://localhost:8001/rerank\",\n",
    "    json={\n",
    "        \"pairs\": [\n",
    "            (\"What is the capital of China?\", \"Beijing is the capital of China.\"),\n",
    "            (\"Explain gravity\", \"Gravity is a force that attracts objects.\")\n",
    "        ],\n",
    "        \"instruction\": \"Retrieve documents that directly answer the query.\"\n",
    "    }\n",
    ")\n",
    "print(response.json())  "
   ]
  },
  {
   "cell_type": "code",
   "execution_count": null,
   "id": "636b1b4d-e5d2-466c-901b-8e481f1b852c",
   "metadata": {},
   "outputs": [],
   "source": []
  }
 ],
 "metadata": {
  "kernelspec": {
   "display_name": "Python 3 (ipykernel)",
   "language": "python",
   "name": "python3"
  },
  "language_info": {
   "codemirror_mode": {
    "name": "ipython",
    "version": 3
   },
   "file_extension": ".py",
   "mimetype": "text/x-python",
   "name": "python",
   "nbconvert_exporter": "python",
   "pygments_lexer": "ipython3",
   "version": "3.12.3"
  }
 },
 "nbformat": 4,
 "nbformat_minor": 5
}
