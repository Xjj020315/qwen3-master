{
 "cells": [
  {
   "cell_type": "raw",
   "id": "06bfb497",
   "metadata": {
    "vscode": {
     "languageId": "raw"
    }
   },
   "source": [
    "pip install memray==1.13.4\n",
    "pip install ray==2.32.0"
   ]
  },
  {
   "cell_type": "code",
   "execution_count": 9,
   "id": "ea043a68",
   "metadata": {},
   "outputs": [],
   "source": [
    "import requests\n",
    "\n",
    "BASE_URL = \"http://0.0.0.0:1080\"\n"
   ]
  },
  {
   "cell_type": "markdown",
   "id": "7ca84568",
   "metadata": {},
   "source": [
    "## reranker"
   ]
  },
  {
   "cell_type": "code",
   "execution_count": 2,
   "id": "050b258a",
   "metadata": {},
   "outputs": [],
   "source": [
    "queries = [\"What is the capital of China?\", \"Explain gravity\", \"Explain gravity\"]\n",
    "documents = [\n",
    "    \"The capital of China is Beijing.\",\n",
    "    \"The capital of China is Beijing.\",\n",
    "    \"Gravity is a force that attracts two bodies towards each other. It gives weight to physical objects and is responsible for the movement of planets around the sun.\",\n",
    "]"
   ]
  },
  {
   "cell_type": "code",
   "execution_count": 3,
   "id": "c730c917",
   "metadata": {},
   "outputs": [
    {
     "data": {
      "text/plain": [
       "[0.9970703125, 4.0531158447265625e-06, 0.99560546875]"
      ]
     },
     "execution_count": 3,
     "metadata": {},
     "output_type": "execute_result"
    }
   ],
   "source": [
    "response = requests.post(\n",
    "    f\"{BASE_URL}/reranker/api\",\n",
    "    json={\"questions\": queries, \"texts\": documents},\n",
    ")\n",
    "response.json()"
   ]
  },
  {
   "cell_type": "markdown",
   "id": "a3db03df",
   "metadata": {},
   "source": [
    "## embedding"
   ]
  },
  {
   "cell_type": "code",
   "execution_count": 4,
   "id": "3e0a77e0",
   "metadata": {},
   "outputs": [],
   "source": [
    "queries = [\"What is the capital of China?\", \"Explain gravity\"]\n",
    "documents = [\n",
    "    \"The capital of China is Beijing.\",\n",
    "    \"Gravity is a force that attracts two bodies towards each other. It gives weight to physical objects and is responsible for the movement of planets around the sun.\",\n",
    "]\n"
   ]
  },
  {
   "cell_type": "code",
   "execution_count": 5,
   "id": "37811bf9",
   "metadata": {},
   "outputs": [
    {
     "data": {
      "text/plain": [
       "(2, 2560)"
      ]
     },
     "execution_count": 5,
     "metadata": {},
     "output_type": "execute_result"
    }
   ],
   "source": [
    "import numpy as np \n",
    "response = requests.post(\n",
    "    f\"{BASE_URL}/emb/api\",\n",
    "    json={\"input\": queries,\"is_query\": True},\n",
    ")\n",
    "query_embeddings = response.json()\n",
    "\n",
    "query_embeddings = np.array(query_embeddings)\n",
    "query_embeddings.shape"
   ]
  },
  {
   "cell_type": "code",
   "execution_count": 6,
   "id": "a5a5943c-f103-4030-95e4-cbaa99afcdb7",
   "metadata": {},
   "outputs": [
    {
     "data": {
      "text/plain": [
       "array([[-3.39746475e-04, -1.92871094e-02,  6.30493164e-02, ...,\n",
       "         3.25622559e-02,  3.41491699e-02, -7.56263733e-04],\n",
       "       [-1.33514404e-05, -2.65960693e-02, -4.35791016e-02, ...,\n",
       "         7.82966614e-04,  2.00042725e-02,  1.29394531e-02]])"
      ]
     },
     "execution_count": 6,
     "metadata": {},
     "output_type": "execute_result"
    }
   ],
   "source": [
    "query_embeddings"
   ]
  },
  {
   "cell_type": "code",
   "execution_count": 7,
   "id": "9fa11db9",
   "metadata": {},
   "outputs": [
    {
     "data": {
      "text/plain": [
       "(2, 2560)"
      ]
     },
     "execution_count": 7,
     "metadata": {},
     "output_type": "execute_result"
    }
   ],
   "source": [
    "response = requests.post(\n",
    "    f\"{BASE_URL}/embedding/api\",\n",
    "    json={\"input\": documents, \"is_query\": False},\n",
    ")\n",
    "documents_embeddings = response.json()\n",
    "\n",
    "documents_embeddings = np.array(documents_embeddings)\n",
    "documents_embeddings.shape\n"
   ]
  },
  {
   "cell_type": "code",
   "execution_count": 8,
   "id": "7b3a7277",
   "metadata": {},
   "outputs": [
    {
     "data": {
      "text/plain": [
       "array([[0.75355368, 0.1147385 ],\n",
       "       [0.03220334, 0.62610682]])"
      ]
     },
     "execution_count": 8,
     "metadata": {},
     "output_type": "execute_result"
    }
   ],
   "source": [
    "query_embeddings @ documents_embeddings.T"
   ]
  },
  {
   "cell_type": "markdown",
   "id": "515f4a00-3038-4d2b-b238-27e40e433d4e",
   "metadata": {},
   "source": [
    "## embedding2"
   ]
  },
  {
   "cell_type": "code",
   "execution_count": 10,
   "id": "82fb8d8d-b010-4374-9663-b749960aac01",
   "metadata": {},
   "outputs": [],
   "source": [
    "queries = [\"What is the capital of China?\", \"Explain gravity\"]\n",
    "documents = [\n",
    "    \"The capital of China is Beijing.\",\n",
    "    \"Gravity is a force that attracts two bodies towards each other. It gives weight to physical objects and is responsible for the movement of planets around the sun.\",\n",
    "]"
   ]
  },
  {
   "cell_type": "code",
   "execution_count": 22,
   "id": "b1e0e9c3-eb28-4e8c-8217-6abd8d64028a",
   "metadata": {},
   "outputs": [],
   "source": [
    "import numpy as np \n",
    "response = requests.post(\n",
    "    f\"{BASE_URL}/emb/api\",\n",
    "    json={\"questions\": queries,\"texts\": documents},\n",
    ")"
   ]
  },
  {
   "cell_type": "code",
   "execution_count": 23,
   "id": "312f7811-be3a-48a0-86df-a0cae112da2a",
   "metadata": {},
   "outputs": [
    {
     "data": {
      "text/plain": [
       "[[0.75341796875, 0.11474609375], [0.0322265625, 0.6259765625]]"
      ]
     },
     "execution_count": 23,
     "metadata": {},
     "output_type": "execute_result"
    }
   ],
   "source": [
    "response.json()"
   ]
  },
  {
   "cell_type": "code",
   "execution_count": null,
   "id": "c4c5d1c1-99ae-4ea3-9764-a1c9b8c30f4f",
   "metadata": {},
   "outputs": [],
   "source": []
  }
 ],
 "metadata": {
  "kernelspec": {
   "display_name": "Python 3 (ipykernel)",
   "language": "python",
   "name": "python3"
  },
  "language_info": {
   "codemirror_mode": {
    "name": "ipython",
    "version": 3
   },
   "file_extension": ".py",
   "mimetype": "text/x-python",
   "name": "python",
   "nbconvert_exporter": "python",
   "pygments_lexer": "ipython3",
   "version": "3.12.3"
  }
 },
 "nbformat": 4,
 "nbformat_minor": 5
}
